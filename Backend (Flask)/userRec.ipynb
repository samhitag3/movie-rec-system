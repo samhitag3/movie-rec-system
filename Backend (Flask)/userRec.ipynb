{
 "cells": [
  {
   "cell_type": "code",
   "execution_count": null,
   "metadata": {},
   "outputs": [],
   "source": [
    "import pickle\n",
    "import pandas as pd\n",
    "import numpy as np\n",
    "from sklearn import model_selection, metrics, preprocessing\n",
    "import torch\n",
    "from torch.utils.data.dataset import Dataset\n",
    "from torch.utils.data import DataLoader"
   ]
  },
  {
   "cell_type": "code",
   "execution_count": 3,
   "metadata": {},
   "outputs": [],
   "source": [
    "class Model(torch.nn.Module):\n",
    "    def __init__(self, n_users, n_items, n_factors=20):\n",
    "        super().__init__()\n",
    "        # create user and item embeddings\n",
    "        self.user_factors = torch.nn.Embedding(n_users, n_factors)\n",
    "        self.movie_factors = torch.nn.Embedding(n_items, n_factors)\n",
    "        # fills weights with values from a uniform distribution [0, 0.5]\n",
    "        self.user_factors.weight.data.uniform_(0, 0.05)\n",
    "        self.movie_factors.weight.data.uniform_(0, 0.05)\n",
    "    \n",
    "    def forward(self, data):\n",
    "        # matrix multiplication between user and item factors, and then concatenates them to one column\n",
    "        return (self.user_factors(data[:,0])*self.movie_factors(data[:,1])).sum(1)"
   ]
  },
  {
   "cell_type": "code",
   "execution_count": 4,
   "metadata": {},
   "outputs": [
    {
     "name": "stdout",
     "output_type": "stream",
     "text": [
      "user_factors.weight tensor([[ 1.2879e+00,  1.2351e+00,  1.4475e+00,  ...,  8.7125e-01,\n",
      "          1.2981e+00,  1.4134e+00],\n",
      "        [-4.7784e-01,  1.9576e+00,  8.5370e-01,  ...,  1.1529e+00,\n",
      "          1.2158e+00,  1.2119e+00],\n",
      "        [ 1.6130e+00, -4.9406e-01,  1.2355e+00,  ...,  4.9674e-01,\n",
      "          5.0186e-01, -5.5076e-01],\n",
      "        ...,\n",
      "        [ 1.6056e+00, -5.8401e-04, -6.1805e-01,  ...,  1.2846e+00,\n",
      "          1.2682e+00,  7.6898e-01],\n",
      "        [ 9.3464e-01,  1.5208e+00,  3.5752e-01,  ...,  1.1465e+00,\n",
      "          6.3008e-01,  1.1093e+00],\n",
      "        [ 9.2243e-01,  5.6559e-01,  1.7987e+00,  ...,  1.8294e+00,\n",
      "          4.6336e-01,  1.0299e+00]])\n",
      "movie_factors.weight tensor([[ 0.2463,  0.5204,  0.7100,  ...,  0.6783,  0.3932,  0.7677],\n",
      "        [ 0.1969,  0.6254,  0.5293,  ...,  0.2248,  0.6878,  0.3593],\n",
      "        [ 0.1623,  0.5284,  0.5087,  ...,  0.1088, -0.0968,  1.0053],\n",
      "        ...,\n",
      "        [ 0.4141,  0.4185,  0.3778,  ...,  0.3825,  0.4037,  0.4099],\n",
      "        [ 0.4147,  0.3899,  0.4097,  ...,  0.3775,  0.4011,  0.4010],\n",
      "        [ 0.5000,  0.4760,  0.4630,  ...,  0.4668,  0.4611,  0.4952]])\n"
     ]
    },
    {
     "name": "stderr",
     "output_type": "stream",
     "text": [
      "/Users/miller/Projects/[Cody] Cinemacado/Backend (Flask)/venv/lib/python3.9/site-packages/torch/storage.py:414: FutureWarning: You are using `torch.load` with `weights_only=False` (the current default value), which uses the default pickle module implicitly. It is possible to construct malicious pickle data which will execute arbitrary code during unpickling (See https://github.com/pytorch/pytorch/blob/main/SECURITY.md#untrusted-models for more details). In a future release, the default value for `weights_only` will be flipped to `True`. This limits the functions that could be executed during unpickling. Arbitrary objects will no longer be allowed to be loaded via this mode unless they are explicitly allowlisted by the user via `torch.serialization.add_safe_globals`. We recommend you start setting `weights_only=True` for any use case where you don't have full control of the loaded file. Please open an issue on GitHub for any issues related to this experimental feature.\n",
      "  return torch.load(io.BytesIO(b))\n"
     ]
    }
   ],
   "source": [
    "with open('recSys.pkl', 'rb') as f:\n",
    "    model = pickle.load(f)\n",
    "\n",
    "    for name, param in model.named_parameters():\n",
    "        if param.requires_grad:\n",
    "            print(name, param.data)"
   ]
  }
 ],
 "metadata": {
  "kernelspec": {
   "display_name": "venv",
   "language": "python",
   "name": "python3"
  },
  "language_info": {
   "codemirror_mode": {
    "name": "ipython",
    "version": 3
   },
   "file_extension": ".py",
   "mimetype": "text/x-python",
   "name": "python",
   "nbconvert_exporter": "python",
   "pygments_lexer": "ipython3",
   "version": "3.9.13"
  },
  "orig_nbformat": 4
 },
 "nbformat": 4,
 "nbformat_minor": 2
}
